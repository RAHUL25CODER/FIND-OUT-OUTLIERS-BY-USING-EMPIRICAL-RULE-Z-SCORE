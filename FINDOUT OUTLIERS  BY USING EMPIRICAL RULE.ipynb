{
 "cells": [
  {
   "cell_type": "code",
   "execution_count": 9,
   "id": "ea6dc735",
   "metadata": {},
   "outputs": [],
   "source": [
    "import numpy as np\n",
    "data_set = np.array([11,12,13,14,15,16,17,18,15,19,18,17,16,16,15,14,13,13,191,100,7,14,7,84])\n"
   ]
  },
  {
   "cell_type": "code",
   "execution_count": 11,
   "id": "81ca4c03",
   "metadata": {},
   "outputs": [
    {
     "data": {
      "text/plain": [
       "[191]"
      ]
     },
     "execution_count": 11,
     "metadata": {},
     "output_type": "execute_result"
    }
   ],
   "source": [
    "outlier = []\n",
    "def detect_outlier(data):\n",
    "    thresh_hold = 3\n",
    "    mean = np.mean(data)\n",
    "    std = np.std(data)\n",
    "    for i in data:\n",
    "        z_score = (i-mean)/std\n",
    "        if np.abs(z_score)>thresh_hold:\n",
    "            outlier.append(i)\n",
    "    return outlier\n",
    "detect_outlier(data_set)"
   ]
  },
  {
   "cell_type": "code",
   "execution_count": null,
   "id": "df5270fb",
   "metadata": {},
   "outputs": [],
   "source": []
  },
  {
   "cell_type": "code",
   "execution_count": null,
   "id": "d52e4a5b",
   "metadata": {},
   "outputs": [],
   "source": []
  }
 ],
 "metadata": {
  "kernelspec": {
   "display_name": "Python 3 (ipykernel)",
   "language": "python",
   "name": "python3"
  },
  "language_info": {
   "codemirror_mode": {
    "name": "ipython",
    "version": 3
   },
   "file_extension": ".py",
   "mimetype": "text/x-python",
   "name": "python",
   "nbconvert_exporter": "python",
   "pygments_lexer": "ipython3",
   "version": "3.9.12"
  }
 },
 "nbformat": 4,
 "nbformat_minor": 5
}
